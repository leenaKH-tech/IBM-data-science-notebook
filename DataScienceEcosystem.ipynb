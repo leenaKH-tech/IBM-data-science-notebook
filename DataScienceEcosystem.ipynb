{
  "metadata": {
    "kernelspec": {
      "name": "python",
      "display_name": "Python (Pyodide)",
      "language": "python"
    },
    "language_info": {
      "codemirror_mode": {
        "name": "python",
        "version": 3
      },
      "file_extension": ".py",
      "mimetype": "text/x-python",
      "name": "python",
      "nbconvert_exporter": "python",
      "pygments_lexer": "ipython3",
      "version": "3.8"
    }
  },
  "nbformat_minor": 5,
  "nbformat": 4,
  "cells": [
    {
      "id": "9fdde4f1-8925-45be-9415-cb6e9138ee40",
      "cell_type": "markdown",
      "source": "# Data Science Tools and Ecosystem",
      "metadata": {}
    },
    {
      "id": "e7d45489-1fbb-41f4-b9c9-298f896bfca4",
      "cell_type": "markdown",
      "source": "# In this notebook, Data Science Tools and Ecosystem are summarized.",
      "metadata": {}
    },
    {
      "id": "a2e07b88-ff23-49c1-b133-f6f26fb80c4b",
      "cell_type": "markdown",
      "source": "# Some of the popular languages that Data Scientists use are:\n1. Python\n2. R\n3. SCALA\n4. JULIA\n5. SQL",
      "metadata": {}
    },
    {
      "id": "55622375-29bd-4dd1-a315-03657338203a",
      "cell_type": "markdown",
      "source": "Some of the commonly used libraries used by Data Scientists include:\n\n1. Pandas  \n2. NumPy  \n3. Matplotlib  \n4. Scikit-learn  \n5. TensorFlow\n",
      "metadata": {}
    },
    {
      "id": "228d3bc4-f250-4e37-9bd6-2e477d285c40",
      "cell_type": "markdown",
      "source": "| Data Science Tools         |\n|----------------------------|\n| Jupyter Notebook           |\n| RStudio                    |\n| Apache Zeppelin            |\n",
      "metadata": {}
    },
    {
      "id": "b2e54b07-27d6-4fee-918e-95440b1a7aa1",
      "cell_type": "markdown",
      "source": "### Below are a few examples of evaluating arithmetic expressions in Python.\n",
      "metadata": {}
    },
    {
      "id": "395f29fa-9932-4cf7-81d8-e2bff6b7e0f3",
      "cell_type": "code",
      "source": "# This is a simple arithmetic expression to multiply then add integers\n(3 * 4) + 5\n",
      "metadata": {
        "trusted": true
      },
      "outputs": [
        {
          "execution_count": 1,
          "output_type": "execute_result",
          "data": {
            "text/plain": "17"
          },
          "metadata": {}
        }
      ],
      "execution_count": 1
    },
    {
      "id": "3a9251db-9f8c-4da2-86a8-7d8643d583f0",
      "cell_type": "code",
      "source": "# This will convert 200 minutes to hours by dividing by 60\n200 / 60\n",
      "metadata": {
        "trusted": true
      },
      "outputs": [
        {
          "execution_count": 2,
          "output_type": "execute_result",
          "data": {
            "text/plain": "3.3333333333333335"
          },
          "metadata": {}
        }
      ],
      "execution_count": 2
    },
    {
      "id": "a70e814f-2ab5-4eab-ad4b-4edfd81d3223",
      "cell_type": "markdown",
      "source": "**Objectives:**\n\n- List popular languages for Data Science  \n- Identify commonly used libraries by Data Scientists  \n- Create and format tables using Markdown  \n- Perform basic arithmetic operations in Python  \n- Convert units (e.g., minutes to hours) using Python code\n",
      "metadata": {}
    },
    {
      "id": "fbc19360-fb14-4aa1-a95b-1d63f9a5a5bf",
      "cell_type": "markdown",
      "source": "## Author\nLeena Khairelseed\n",
      "metadata": {}
    },
    {
      "id": "4decd04d-9f8e-4937-882c-a52cd5f64e52",
      "cell_type": "code",
      "source": "",
      "metadata": {
        "trusted": true
      },
      "outputs": [],
      "execution_count": null
    }
  ]
}